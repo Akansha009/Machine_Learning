{
  "nbformat": 4,
  "nbformat_minor": 0,
  "metadata": {
    "colab": {
      "provenance": []
    },
    "kernelspec": {
      "name": "python3",
      "display_name": "Python 3"
    },
    "language_info": {
      "name": "python"
    }
  },
  "cells": [
    {
      "cell_type": "code",
      "execution_count": null,
      "metadata": {
        "colab": {
          "base_uri": "https://localhost:8080/"
        },
        "id": "_QIUr-JWWOU-",
        "outputId": "92bb917c-19b1-45a9-e412-e22beef0c8e4"
      },
      "outputs": [
        {
          "output_type": "stream",
          "name": "stdout",
          "text": [
            "Enter any string:python\n",
            "pto\n"
          ]
        }
      ],
      "source": [
        "#Write code to print characters from a string that are present at an even index number. For example, if your input string is \"python\", \n",
        "#the output characters will be (p,t,o).\n",
        "\n",
        "word=input(\"Enter any string:\")\n",
        "print(word[::2])"
      ]
    },
    {
      "cell_type": "code",
      "source": [
        "#Write a function that calculates the average of the elements of the list:\n",
        "#elements = [5, 7, 4, 9, 2]\n",
        "\n",
        "def avg(list1):\n",
        "  sum=0\n",
        "  for i in list1:\n",
        "    sum=sum+i\n",
        "  avg=sum/5\n",
        "  print(avg)\n",
        "\n",
        "list1=[5,7,4,9,2]\n",
        "avg(list1)"
      ],
      "metadata": {
        "colab": {
          "base_uri": "https://localhost:8080/"
        },
        "id": "DbmWcDgkKM4v",
        "outputId": "15d0ca0c-af46-4f5d-b248-8421fe87459e"
      },
      "execution_count": null,
      "outputs": [
        {
          "output_type": "stream",
          "name": "stdout",
          "text": [
            "5.4\n"
          ]
        }
      ]
    },
    {
      "cell_type": "code",
      "source": [
        "#Write a code that takes a year as input and determines whether it is a leap year or not.\n",
        "\n",
        "def leapYear(year):\n",
        "  \n",
        "  if year%4==0 and year % 100 != 0:\n",
        "    print(\"Year: \" + str(year) +\" is a Leap Year\")\n",
        "  elif year%400==0:\n",
        "    print(\"Year: \" + str(year) +\" is a Leap Year\")\n",
        "  else:\n",
        "    print(\"Year: \" + str(year) +\" is not a Leap Year\")\n",
        "\n",
        "year=int(input(\"Enter Year:\"))\n",
        "leapYear(year)\n"
      ],
      "metadata": {
        "colab": {
          "base_uri": "https://localhost:8080/"
        },
        "id": "Ny9TdoZVNYJ-",
        "outputId": "93680ffd-6627-40ce-b3a0-67d1d9690801"
      },
      "execution_count": null,
      "outputs": [
        {
          "output_type": "stream",
          "name": "stdout",
          "text": [
            "Enter Year:2004\n",
            "Year: 2004 is a Leap Year\n"
          ]
        }
      ]
    },
    {
      "cell_type": "code",
      "source": [
        "#Create a 1 dimensional numpy array of the first 50 even numbers. Convert this to a 10x5 numpy array and print its transpose.\n",
        "\n",
        "import numpy as np\n",
        "arr_1d=np.arange(0,100,2)\n",
        "print(arr_1d)\n",
        "print(arr_1d.shape)\n",
        "arr_2d=arr_1d.reshape(10,5)\n",
        "print(arr_2d)\n",
        "print(arr_2d.T)"
      ],
      "metadata": {
        "colab": {
          "base_uri": "https://localhost:8080/"
        },
        "id": "g5Hd8zRXTrXC",
        "outputId": "cdd96f21-05b0-4d2a-d906-d14756c6f201"
      },
      "execution_count": 32,
      "outputs": [
        {
          "output_type": "stream",
          "name": "stdout",
          "text": [
            "[ 0  2  4  6  8 10 12 14 16 18 20 22 24 26 28 30 32 34 36 38 40 42 44 46\n",
            " 48 50 52 54 56 58 60 62 64 66 68 70 72 74 76 78 80 82 84 86 88 90 92 94\n",
            " 96 98]\n",
            "(50,)\n",
            "[[ 0  2  4  6  8]\n",
            " [10 12 14 16 18]\n",
            " [20 22 24 26 28]\n",
            " [30 32 34 36 38]\n",
            " [40 42 44 46 48]\n",
            " [50 52 54 56 58]\n",
            " [60 62 64 66 68]\n",
            " [70 72 74 76 78]\n",
            " [80 82 84 86 88]\n",
            " [90 92 94 96 98]]\n",
            "[[ 0 10 20 30 40 50 60 70 80 90]\n",
            " [ 2 12 22 32 42 52 62 72 82 92]\n",
            " [ 4 14 24 34 44 54 64 74 84 94]\n",
            " [ 6 16 26 36 46 56 66 76 86 96]\n",
            " [ 8 18 28 38 48 58 68 78 88 98]]\n"
          ]
        }
      ]
    },
    {
      "cell_type": "code",
      "source": [
        "#Consider the 10x5 array created in the previous question. Find the mean of each row and column. You may use in built functions in order to \n",
        "#have a more optimal solution\n",
        "\n",
        "#Mean of Column\n",
        "mean_of_column=arr_2d.mean(axis=0)\n",
        "print(\"Mean Of Column\",mean_of_column)\n",
        "\n",
        "#Mean of row\n",
        "mean_of_row = arr_2d.mean(axis=1)\n",
        "print (\"Mean of Row\",mean_of_row)"
      ],
      "metadata": {
        "colab": {
          "base_uri": "https://localhost:8080/"
        },
        "id": "pj3H8vfMkkQI",
        "outputId": "cf549963-d847-4aed-f784-3c1c9907c2a3"
      },
      "execution_count": 33,
      "outputs": [
        {
          "output_type": "stream",
          "name": "stdout",
          "text": [
            "Mean Of Column [45. 47. 49. 51. 53.]\n",
            "Mean of Row [ 4. 14. 24. 34. 44. 54. 64. 74. 84. 94.]\n"
          ]
        }
      ]
    }
  ]
}