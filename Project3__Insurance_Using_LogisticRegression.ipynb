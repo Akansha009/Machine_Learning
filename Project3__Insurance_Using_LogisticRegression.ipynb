{
  "nbformat": 4,
  "nbformat_minor": 0,
  "metadata": {
    "colab": {
      "provenance": [],
      "authorship_tag": "ABX9TyOCf/t6rHHKadYV+s04dNfn",
      "include_colab_link": true
    },
    "kernelspec": {
      "name": "python3",
      "display_name": "Python 3"
    },
    "language_info": {
      "name": "python"
    }
  },
  "cells": [
    {
      "cell_type": "markdown",
      "metadata": {
        "id": "view-in-github",
        "colab_type": "text"
      },
      "source": [
        "<a href=\"https://colab.research.google.com/github/Akansha009/Machine_Learning/blob/main/Project__3__Insurance__using_LogisticRegression.ipynb\" target=\"_parent\"><img src=\"https://colab.research.google.com/assets/colab-badge.svg\" alt=\"Open In Colab\"/></a>"
      ]
    },
    {
      "cell_type": "code",
      "execution_count": 53,
      "metadata": {
        "id": "_fqs9LZ-2B3C"
      },
      "outputs": [],
      "source": [
        "import numpy as np\n",
        "import pandas as pd"
      ]
    },
    {
      "cell_type": "code",
      "source": [
        "#Step 1 :Gathering the Data-\n",
        "data=pd.read_csv(\"/content/insurance2.csv\")\n",
        "print(data)"
      ],
      "metadata": {
        "colab": {
          "base_uri": "https://localhost:8080/"
        },
        "id": "lUuLAbCi4lZd",
        "outputId": "10f6776c-8601-4534-bb9e-1536b556dc96"
      },
      "execution_count": 54,
      "outputs": [
        {
          "output_type": "stream",
          "name": "stdout",
          "text": [
            "      age  sex     bmi  children  smoker  region      charges  insuranceclaim\n",
            "0      19    0  27.900         0       1       3  16884.92400               1\n",
            "1      18    1  33.770         1       0       2   1725.55230               1\n",
            "2      28    1  33.000         3       0       2   4449.46200               0\n",
            "3      33    1  22.705         0       0       1  21984.47061               0\n",
            "4      32    1  28.880         0       0       1   3866.85520               1\n",
            "...   ...  ...     ...       ...     ...     ...          ...             ...\n",
            "1333   50    1  30.970         3       0       1  10600.54830               0\n",
            "1334   18    0  31.920         0       0       0   2205.98080               1\n",
            "1335   18    0  36.850         0       0       2   1629.83350               1\n",
            "1336   21    0  25.800         0       0       3   2007.94500               0\n",
            "1337   61    0  29.070         0       1       1  29141.36030               1\n",
            "\n",
            "[1338 rows x 8 columns]\n"
          ]
        }
      ]
    },
    {
      "cell_type": "code",
      "source": [
        "#Step 2 :Data Cleaning-\n"
      ],
      "metadata": {
        "id": "L7LkaXlA4_bW"
      },
      "execution_count": 55,
      "outputs": []
    },
    {
      "cell_type": "code",
      "source": [
        "#Step 3 :Dividing data into Independant and Depandant Variables-\n",
        "x=data[['age','sex','bmi','children','smoker','region','charges']]\n",
        "y=data['insuranceclaim']"
      ],
      "metadata": {
        "id": "nPrOpQAz5FlO"
      },
      "execution_count": 56,
      "outputs": []
    },
    {
      "cell_type": "code",
      "source": [
        "#Step 4 :splitting data into training and testing set-\n",
        "from sklearn.model_selection import train_test_split\n",
        "x_train,x_test,y_train,y_test= train_test_split(x,y,train_size=0.8)"
      ],
      "metadata": {
        "id": "49TSlt7X6PM5"
      },
      "execution_count": 57,
      "outputs": []
    },
    {
      "cell_type": "code",
      "source": [
        "#Step 5 : Creating a ML model using Linear Regression algorithm\n",
        "#import Linear Regression algorithm\n",
        "from sklearn.linear_model import LogisticRegression\n",
        "logistic_model=LogisticRegression()\n",
        "logistic_model.fit(x_train,y_train)\n",
        "y_pred=logistic_model.predict(x_test)\n",
        "print(y_pred)\n",
        "#Calculating the accuracy of the ML model-\n",
        "from sklearn.metrics import confusion_matrix,accuracy_score\n",
        "cm=confusion_matrix(y_test,y_pred)\n",
        "ac=accuracy_score(y_test,y_pred)\n",
        "print(\"The confusion matrix of the ML model using Logistic Regression is\",cm)\n",
        "print(\"The accuracy of the ML model using Logistic Regression is\",ac)\n"
      ],
      "metadata": {
        "colab": {
          "base_uri": "https://localhost:8080/"
        },
        "id": "5l_Jt6QMAILh",
        "outputId": "1205489b-2f62-4dd5-e940-8f8d4b6d2869"
      },
      "execution_count": 63,
      "outputs": [
        {
          "output_type": "stream",
          "name": "stdout",
          "text": [
            "[0 0 0 1 1 0 0 1 1 0 1 1 1 1 1 1 0 0 1 1 1 0 0 0 1 1 0 0 0 1 1 1 0 0 1 0 1\n",
            " 0 0 0 0 0 0 0 0 1 1 1 0 1 0 1 0 1 1 1 0 0 0 0 1 0 0 0 1 0 0 0 0 1 1 1 1 0\n",
            " 0 0 1 1 0 1 0 1 1 1 1 1 1 1 1 1 1 1 0 1 1 1 0 1 0 1 0 0 1 1 0 0 1 1 1 1 1\n",
            " 0 0 1 0 1 0 1 1 1 0 0 1 0 1 1 0 1 0 0 1 0 1 0 0 1 0 0 1 0 1 0 1 1 1 1 1 0\n",
            " 1 0 1 1 1 1 0 1 1 0 0 1 0 1 1 1 0 1 1 1 1 1 1 1 0 1 0 1 1 1 1 1 0 1 1 1 0\n",
            " 1 1 1 1 0 0 0 0 1 1 1 1 1 1 0 0 1 0 0 0 0 0 1 1 1 1 0 0 0 0 1 1 1 0 1 0 0\n",
            " 1 1 1 0 0 0 0 0 1 1 0 1 1 1 1 1 0 0 1 0 1 0 0 0 1 1 1 1 0 0 1 0 0 0 1 0 1\n",
            " 0 0 0 1 0 0 1 1 1]\n",
            "The confusion matrix of the ML model using Logistic Regression is [[ 97  24]\n",
            " [ 23 124]]\n",
            "The accuracy of the ML model using Logistic Regression is 0.8246268656716418\n"
          ]
        },
        {
          "output_type": "stream",
          "name": "stderr",
          "text": [
            "/usr/local/lib/python3.10/dist-packages/sklearn/linear_model/_logistic.py:458: ConvergenceWarning: lbfgs failed to converge (status=1):\n",
            "STOP: TOTAL NO. of ITERATIONS REACHED LIMIT.\n",
            "\n",
            "Increase the number of iterations (max_iter) or scale the data as shown in:\n",
            "    https://scikit-learn.org/stable/modules/preprocessing.html\n",
            "Please also refer to the documentation for alternative solver options:\n",
            "    https://scikit-learn.org/stable/modules/linear_model.html#logistic-regression\n",
            "  n_iter_i = _check_optimize_result(\n"
          ]
        }
      ]
    }
  ]
}
