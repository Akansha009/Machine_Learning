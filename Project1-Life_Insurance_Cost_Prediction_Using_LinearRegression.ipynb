{
  "nbformat": 4,
  "nbformat_minor": 0,
  "metadata": {
    "colab": {
      "provenance": [],
      "authorship_tag": "ABX9TyMsVaXzBsGAAtBEAYLMV7C1",
      "include_colab_link": true
    },
    "kernelspec": {
      "name": "python3",
      "display_name": "Python 3"
    },
    "language_info": {
      "name": "python"
    }
  },
  "cells": [
    {
      "cell_type": "markdown",
      "metadata": {
        "id": "view-in-github",
        "colab_type": "text"
      },
      "source": [
        "<a href=\"https://colab.research.google.com/github/Akansha009/DataScience/blob/main/Project1-Life_Insurance_Cost_Prediction_Using_LinearRegression.ipynb\" target=\"_parent\"><img src=\"https://colab.research.google.com/assets/colab-badge.svg\" alt=\"Open In Colab\"/></a>"
      ]
    },
    {
      "cell_type": "code",
      "execution_count": 21,
      "metadata": {
        "id": "qYanoXu1Qbg3"
      },
      "outputs": [],
      "source": [
        "import numpy as np\n",
        "import pandas as pd"
      ]
    },
    {
      "cell_type": "code",
      "source": [
        "#Step 1 :Gathering the Data\n",
        "data=pd.read_csv(\"/content/insurance.csv\")\n",
        "print(data)"
      ],
      "metadata": {
        "colab": {
          "base_uri": "https://localhost:8080/"
        },
        "id": "TFtIalkAQ1NP",
        "outputId": "5dced819-d374-4522-cf5e-5df6629a963a"
      },
      "execution_count": 32,
      "outputs": [
        {
          "output_type": "stream",
          "name": "stdout",
          "text": [
            "      age     sex   bmi  children smoker     region  expenses\n",
            "0      19  female  27.9         0    yes  southwest  16884.92\n",
            "1      18    male  33.8         1     no  southeast   1725.55\n",
            "2      28    male  33.0         3     no  southeast   4449.46\n",
            "3      33    male  22.7         0     no  northwest  21984.47\n",
            "4      32    male  28.9         0     no  northwest   3866.86\n",
            "...   ...     ...   ...       ...    ...        ...       ...\n",
            "1333   50    male  31.0         3     no  northwest  10600.55\n",
            "1334   18  female  31.9         0     no  northeast   2205.98\n",
            "1335   18  female  36.9         0     no  southeast   1629.83\n",
            "1336   21  female  25.8         0     no  southwest   2007.95\n",
            "1337   61  female  29.1         0    yes  northwest  29141.36\n",
            "\n",
            "[1338 rows x 7 columns]\n"
          ]
        }
      ]
    },
    {
      "cell_type": "code",
      "source": [
        "#Step 2 :Data Cleaning-\n",
        "data['sex']=data['sex'].apply({'male':1,'female':0}.get)\n",
        "data['smoker']=data['smoker'].apply({'yes':1,'no':0}.get)\n",
        "data['region']=data['region'].apply({'southwest':3,'southeast':2,'northwest':1,'northeast':0}.get)\n",
        "#data['region']=data['region'].apply({'southeast':1,'southwest':0,'northeast':2,'northwest':3}.get)\n",
        "print(data)"
      ],
      "metadata": {
        "colab": {
          "base_uri": "https://localhost:8080/"
        },
        "id": "5BqL31bSQ9Zv",
        "outputId": "11995c5c-57d3-4964-846e-c1e6bc33f6ba"
      },
      "execution_count": 38,
      "outputs": [
        {
          "output_type": "stream",
          "name": "stdout",
          "text": [
            "      age  sex   bmi  children  smoker  region  expenses\n",
            "0      19    0  27.9         0       1       3  16884.92\n",
            "1      18    1  33.8         1       0       2   1725.55\n",
            "2      28    1  33.0         3       0       2   4449.46\n",
            "3      33    1  22.7         0       0       1  21984.47\n",
            "4      32    1  28.9         0       0       1   3866.86\n",
            "...   ...  ...   ...       ...     ...     ...       ...\n",
            "1333   50    1  31.0         3       0       1  10600.55\n",
            "1334   18    0  31.9         0       0       0   2205.98\n",
            "1335   18    0  36.9         0       0       2   1629.83\n",
            "1336   21    0  25.8         0       0       3   2007.95\n",
            "1337   61    0  29.1         0       1       1  29141.36\n",
            "\n",
            "[1338 rows x 7 columns]\n"
          ]
        }
      ]
    },
    {
      "cell_type": "code",
      "source": [
        "#Step 3 :Dividing data into Independant and Depandant Variables-\n",
        "x=data[['age','sex','bmi','children','smoker','region']]\n",
        "y=data['expenses']"
      ],
      "metadata": {
        "id": "_-EJ1dsHiGPg"
      },
      "execution_count": 42,
      "outputs": []
    },
    {
      "cell_type": "code",
      "source": [
        "#Step 4 :splitting data into training and testing set-\n",
        "from sklearn.model_selection import train_test_split\n",
        "x_train,x_test,y_train,y_test=train_test_split(x,y,test_size=0.2)"
      ],
      "metadata": {
        "id": "GAF2Gokii2BT"
      },
      "execution_count": 43,
      "outputs": []
    },
    {
      "cell_type": "code",
      "source": [
        "#Step 5 : Creating a ML model using Linear Regression algorithm\n",
        "#import Linear Regression algorithm\n",
        "from sklearn.linear_model import LinearRegression\n",
        "linear_model=LinearRegression() #Activating the algorithm for use\n",
        "\n",
        "linear_model.fit(x_train,y_train)\n",
        "\n",
        "y_pred=linear_model.predict(x_test) #.predict() used for predicting the future values\n",
        "\n",
        "#Checking accuracy of the ML model-\n",
        "accuracy=linear_model.score(x,y)\n",
        "print(\"The accuracy of the ML model using Linear Regression algorithm is\",accuracy)"
      ],
      "metadata": {
        "colab": {
          "base_uri": "https://localhost:8080/"
        },
        "id": "l_fhN2iFjyFT",
        "outputId": "5fc13d73-2b45-4577-b326-c1d4eba696e3"
      },
      "execution_count": 44,
      "outputs": [
        {
          "output_type": "stream",
          "name": "stdout",
          "text": [
            "The accuracy of the ML model using Linear Regression algorithm is 0.7507004025419812\n"
          ]
        }
      ]
    },
    {
      "cell_type": "code",
      "source": [
        "#predicting the health insurance of a new customer\n",
        "\n",
        "#creating data for a new customer\n",
        "data_new={'age':65,'sex':0,'bmi':26,'children':3,'smoker':1,'region':3}\n",
        "\n",
        "#converting the dict into a dataframe\n",
        "index=[1] #serial number\n",
        "my_data=pd.DataFrame(data_new,index)\n",
        "\n",
        "#predicting the amount of health insurance the new customer is going to get\n",
        "predictions=linear_model.predict(my_data)\n",
        "\n",
        "print(\"The amount of health insurance for new customer is\",predictions)\n"
      ],
      "metadata": {
        "colab": {
          "base_uri": "https://localhost:8080/"
        },
        "id": "lLyyWN9QnJv9",
        "outputId": "6b27d5f5-cac7-4443-cb16-fae3c221db54"
      },
      "execution_count": 45,
      "outputs": [
        {
          "output_type": "stream",
          "name": "stdout",
          "text": [
            "The amount of health insurance for new customer is [37628.64877571]\n"
          ]
        }
      ]
    }
  ]
}