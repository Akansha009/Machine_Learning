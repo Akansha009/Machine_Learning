{
  "nbformat": 4,
  "nbformat_minor": 0,
  "metadata": {
    "colab": {
      "provenance": [],
      "authorship_tag": "ABX9TyO5ZyG8qKGpAf0bb8jn1V7X",
      "include_colab_link": true
    },
    "kernelspec": {
      "name": "python3",
      "display_name": "Python 3"
    },
    "language_info": {
      "name": "python"
    }
  },
  "cells": [
    {
      "cell_type": "markdown",
      "metadata": {
        "id": "view-in-github",
        "colab_type": "text"
      },
      "source": [
        "<a href=\"https://colab.research.google.com/github/Akansha009/DataScience/blob/main/Project_2_Classification_of_Customers_using_KNN.ipynb\" target=\"_parent\"><img src=\"https://colab.research.google.com/assets/colab-badge.svg\" alt=\"Open In Colab\"/></a>"
      ]
    },
    {
      "cell_type": "code",
      "execution_count": 65,
      "metadata": {
        "id": "fx_vv8iVpLBM"
      },
      "outputs": [],
      "source": [
        "import numpy as np\n",
        "import pandas as pd"
      ]
    },
    {
      "cell_type": "code",
      "source": [
        "#Step 1 :Gathering the Data\n",
        "data=pd.read_csv(\"/content/Social_Network_Ads.csv\")\n",
        "print(data)"
      ],
      "metadata": {
        "colab": {
          "base_uri": "https://localhost:8080/"
        },
        "id": "fpEQnF08qK1x",
        "outputId": "c9b1ffec-17fa-444a-f6d4-f31e4bafcee0"
      },
      "execution_count": 66,
      "outputs": [
        {
          "output_type": "stream",
          "name": "stdout",
          "text": [
            "      User ID  Gender  Age  EstimatedSalary  Purchased\n",
            "0    15624510    Male   19            19000          0\n",
            "1    15810944    Male   35            20000          0\n",
            "2    15668575  Female   26            43000          0\n",
            "3    15603246  Female   27            57000          0\n",
            "4    15804002    Male   19            76000          0\n",
            "..        ...     ...  ...              ...        ...\n",
            "395  15691863  Female   46            41000          1\n",
            "396  15706071    Male   51            23000          1\n",
            "397  15654296  Female   50            20000          1\n",
            "398  15755018    Male   36            33000          0\n",
            "399  15594041  Female   49            36000          1\n",
            "\n",
            "[400 rows x 5 columns]\n"
          ]
        }
      ]
    },
    {
      "cell_type": "code",
      "source": [
        "data=data.drop(['User ID'],axis=1)#removing unwanted column\n",
        "print(data)"
      ],
      "metadata": {
        "colab": {
          "base_uri": "https://localhost:8080/"
        },
        "id": "TFtIalkAQ1NP",
        "outputId": "188c56a2-e546-4e07-95f3-58533cf59333"
      },
      "execution_count": 67,
      "outputs": [
        {
          "output_type": "stream",
          "name": "stdout",
          "text": [
            "     Gender  Age  EstimatedSalary  Purchased\n",
            "0      Male   19            19000          0\n",
            "1      Male   35            20000          0\n",
            "2    Female   26            43000          0\n",
            "3    Female   27            57000          0\n",
            "4      Male   19            76000          0\n",
            "..      ...  ...              ...        ...\n",
            "395  Female   46            41000          1\n",
            "396    Male   51            23000          1\n",
            "397  Female   50            20000          1\n",
            "398    Male   36            33000          0\n",
            "399  Female   49            36000          1\n",
            "\n",
            "[400 rows x 4 columns]\n"
          ]
        }
      ]
    },
    {
      "cell_type": "code",
      "source": [
        "#Step 2 :Data Cleaning-\n",
        "data[\"Gender\"]=data['Gender'].apply({'Male':1,'Female':0}.get)\n",
        "print(data)"
      ],
      "metadata": {
        "colab": {
          "base_uri": "https://localhost:8080/"
        },
        "id": "SpS2TJl3rAqP",
        "outputId": "4c3abbd3-9b2e-4d1b-be8c-2de061341929"
      },
      "execution_count": 68,
      "outputs": [
        {
          "output_type": "stream",
          "name": "stdout",
          "text": [
            "     Gender  Age  EstimatedSalary  Purchased\n",
            "0         1   19            19000          0\n",
            "1         1   35            20000          0\n",
            "2         0   26            43000          0\n",
            "3         0   27            57000          0\n",
            "4         1   19            76000          0\n",
            "..      ...  ...              ...        ...\n",
            "395       0   46            41000          1\n",
            "396       1   51            23000          1\n",
            "397       0   50            20000          1\n",
            "398       1   36            33000          0\n",
            "399       0   49            36000          1\n",
            "\n",
            "[400 rows x 4 columns]\n"
          ]
        }
      ]
    },
    {
      "cell_type": "code",
      "source": [
        "#Step 3 :Dividing data into Independant and Depandant Variables-\n",
        "x=data[['Gender','Age','Purchased']]\n",
        "y=data['EstimatedSalary']\n"
      ],
      "metadata": {
        "id": "vo1htvPtrhQT"
      },
      "execution_count": 69,
      "outputs": []
    },
    {
      "cell_type": "code",
      "source": [
        "#Step 4 :splitting data into training and testing set-\n",
        "from sklearn.model_selection import train_test_split\n",
        "x_train,x_test,y_train,y_test = train_test_split(x,y,train_size=0.75)"
      ],
      "metadata": {
        "id": "OjJVlgzgsEXa"
      },
      "execution_count": 70,
      "outputs": []
    },
    {
      "cell_type": "code",
      "source": [
        "#Step 5 : Creating a ML model using KNN algorithm\n",
        "#import KNN algorithm\n",
        "from sklearn.neighbors import KNeighborsClassifier\n",
        "knn=KNeighborsClassifier(n_neighbors=5)\n",
        "\n",
        "knn.fit(x_train,y_train)\n",
        "\n",
        "y_pred=knn.predict(x_test)\n",
        "print(y_pred)\n"
      ],
      "metadata": {
        "colab": {
          "base_uri": "https://localhost:8080/"
        },
        "id": "KuLnijj-s0K4",
        "outputId": "a36d98c4-0bb9-4306-a89a-9adbe7a25d1e"
      },
      "execution_count": 71,
      "outputs": [
        {
          "output_type": "stream",
          "name": "stdout",
          "text": [
            "[ 15000  20000  72000  47000  34000  80000  20000  71000  80000  30000\n",
            "  50000  70000  50000  50000  70000  43000  47000  41000  21000  26000\n",
            "  50000  80000  50000  72000  26000  35000  31000  70000  47000  89000\n",
            "  54000  43000  52000  26000  72000  89000  73000  33000 144000 134000\n",
            "  25000  36000  28000  33000 144000  22000  57000  42000  21000  47000\n",
            "  47000  20000  23000  28000  42000  20000  15000  60000  41000  15000\n",
            "  54000  21000  15000  22000  55000  33000  20000  82000  49000  20000\n",
            "  30000  57000  28000  80000  54000  52000  42000  83000  47000  21000\n",
            "  34000  52000  21000  48000  47000  72000  42000  42000  15000  23000\n",
            "  43000  23000  45000  57000  22000  23000  52000  89000  42000  35000]\n"
          ]
        }
      ]
    },
    {
      "cell_type": "code",
      "source": [
        "#Calculating the accuracy of the ML model-\n",
        "from sklearn.metrics import confusion_matrix,accuracy_score\n",
        "cm=confusion_matrix(y_test,y_pred)\n",
        "ac=accuracy_score(y_test,y_pred)\n",
        "print(\"The confusion matrix of the ML model using KNN algorithm is\",cm)\n",
        "print(\"The accuracy of the ML model using KNN algorithm is\",ac)"
      ],
      "metadata": {
        "colab": {
          "base_uri": "https://localhost:8080/"
        },
        "id": "jYTssPcbwXxa",
        "outputId": "8bb855d6-8e8e-4fef-f8aa-7754072d605e"
      },
      "execution_count": 72,
      "outputs": [
        {
          "output_type": "stream",
          "name": "stdout",
          "text": [
            "The confusion matrix of the ML model using KNN algorithm is [[0 0 0 ... 0 0 0]\n",
            " [0 0 0 ... 0 0 0]\n",
            " [1 0 0 ... 0 0 0]\n",
            " ...\n",
            " [0 0 0 ... 0 0 0]\n",
            " [0 0 0 ... 0 0 0]\n",
            " [0 0 0 ... 0 0 0]]\n",
            "The accuracy of the ML model using KNN algorithm is 0.05\n"
          ]
        }
      ]
    }
  ]
}