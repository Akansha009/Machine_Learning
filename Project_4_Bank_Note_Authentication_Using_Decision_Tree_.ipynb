{
  "nbformat": 4,
  "nbformat_minor": 0,
  "metadata": {
    "colab": {
      "provenance": [],
      "authorship_tag": "ABX9TyNKeBOb6Dco/dVs+D8cIzyt",
      "include_colab_link": true
    },
    "kernelspec": {
      "name": "python3",
      "display_name": "Python 3"
    },
    "language_info": {
      "name": "python"
    }
  },
  "cells": [
    {
      "cell_type": "markdown",
      "metadata": {
        "id": "view-in-github",
        "colab_type": "text"
      },
      "source": [
        "<a href=\"https://colab.research.google.com/github/Akansha009/Machine_Learning/blob/main/Project_4_Bank_Note_Authentication_Using_Decision_Tree_.ipynb\" target=\"_parent\"><img src=\"https://colab.research.google.com/assets/colab-badge.svg\" alt=\"Open In Colab\"/></a>"
      ]
    },
    {
      "cell_type": "code",
      "execution_count": null,
      "metadata": {
        "id": "jn7bt4ExL4nD"
      },
      "outputs": [],
      "source": [
        "import numpy as np\n",
        "import pandas as pd"
      ]
    },
    {
      "cell_type": "code",
      "source": [
        "#Step 1 :Gathering the Data\n",
        "data=pd.read_csv(\"/content/BankNote_Authentication.csv\")\n",
        "print(data)"
      ],
      "metadata": {
        "colab": {
          "base_uri": "https://localhost:8080/"
        },
        "id": "Cxx4h8uLHI6T",
        "outputId": "5119c92e-2e13-4781-9538-90d714149d72"
      },
      "execution_count": 7,
      "outputs": [
        {
          "output_type": "stream",
          "name": "stdout",
          "text": [
            "      variance  skewness  curtosis  entropy  class\n",
            "0      3.62160   8.66610   -2.8073 -0.44699      0\n",
            "1      4.54590   8.16740   -2.4586 -1.46210      0\n",
            "2      3.86600  -2.63830    1.9242  0.10645      0\n",
            "3      3.45660   9.52280   -4.0112 -3.59440      0\n",
            "4      0.32924  -4.45520    4.5718 -0.98880      0\n",
            "...        ...       ...       ...      ...    ...\n",
            "1367   0.40614   1.34920   -1.4501 -0.55949      1\n",
            "1368  -1.38870  -4.87730    6.4774  0.34179      1\n",
            "1369  -3.75030 -13.45860   17.5932 -2.77710      1\n",
            "1370  -3.56370  -8.38270   12.3930 -1.28230      1\n",
            "1371  -2.54190  -0.65804    2.6842  1.19520      1\n",
            "\n",
            "[1372 rows x 5 columns]\n"
          ]
        }
      ]
    },
    {
      "cell_type": "code",
      "source": [
        "#Step 2 :Data Cleaning- Not required"
      ],
      "metadata": {
        "id": "RuUEyMFyHVi8"
      },
      "execution_count": 9,
      "outputs": []
    },
    {
      "cell_type": "code",
      "source": [
        "#Step 3 :Dividing data into Independant and Depandant Variables-\n",
        "x=data.drop(['class'],axis=1)#x will have all rows except class.]\n",
        "y=data[\"class\"]"
      ],
      "metadata": {
        "id": "lPDQXOofK8Q6"
      },
      "execution_count": 6,
      "outputs": []
    },
    {
      "cell_type": "code",
      "source": [
        "#Step 4 :splitting data into training and testing set-\n",
        "from sklearn.model_selection import train_test_split\n",
        "x_train,x_test,y_train,y_test=train_test_split(x,y,test_size=0.2)"
      ],
      "metadata": {
        "id": "kv4MWxpmLZYS"
      },
      "execution_count": 10,
      "outputs": []
    },
    {
      "cell_type": "code",
      "source": [
        "#Step 5 : Creating a ML model using Decision Tree-\n",
        "from sklearn.tree import DecisionTreeClassifier\n",
        "tree_classifier=DecisionTreeClassifier()\n",
        "tree_classifier.fit(x_train,y_train)\n",
        "tree_pred= tree_classifier.predict(x_test)"
      ],
      "metadata": {
        "id": "S3_-OM4uNyGF"
      },
      "execution_count": 13,
      "outputs": []
    },
    {
      "cell_type": "code",
      "source": [
        "#Calculating the accuracy of the Decision Tree model-\n",
        "from sklearn.metrics import confusion_matrix,accuracy_score\n",
        "cm=confusion_matrix(y_test,tree_pred)\n",
        "acc=accuracy_score(y_test,tree_pred)\n",
        "print(\"The confusion matrix of the ML model using Decision Tree algorithm is\",cm)\n",
        "print(\"The accuracy of the ML model using Decision Tree algorithm is\",acc)"
      ],
      "metadata": {
        "colab": {
          "base_uri": "https://localhost:8080/"
        },
        "id": "9630Ice6OBaY",
        "outputId": "058bf8d8-a40a-4004-ddec-f826d32d2fd1"
      },
      "execution_count": 16,
      "outputs": [
        {
          "output_type": "stream",
          "name": "stdout",
          "text": [
            "The confusion matrix of the ML model using Decision Tree algorithm is [[155   1]\n",
            " [  5 114]]\n",
            "The accuracy of the ML model using Decision Tree algorithm is 0.9781818181818182\n"
          ]
        }
      ]
    }
  ]
}